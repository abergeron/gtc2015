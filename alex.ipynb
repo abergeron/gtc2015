{
 "metadata": {
  "kernelspec": {
   "display_name": "Python 2",
   "language": "python",
   "name": "python2"
  },
  "language_info": {
   "codemirror_mode": {
    "name": "ipython",
    "version": 2
   },
   "file_extension": ".py",
   "mimetype": "text/x-python",
   "name": "python",
   "nbconvert_exporter": "python",
   "pygments_lexer": "ipython2",
   "version": "2.7.6"
  },
  "name": ""
 },
 "nbformat": 3,
 "nbformat_minor": 0,
 "worksheets": [
  {
   "cells": [
    {
     "cell_type": "markdown",
     "metadata": {},
     "source": [
      "This notebook demonstrates and allows you to run the AlexNet model.\n",
      "\n",
      "The first cell will enable the GPU. Execute it(CTRL-enter).\n",
      "\n",
      "The second cell defines the configuration for the model.\n",
      "\n",
      "The last cell defines the training code.  You can play with the configuration or the training code.  If you want to see what the model code looks like you can either type '%load alexnet/alex_net.py' and '%load alexnet/layers.py' in two empty cells or just open those files in your favorite editor.\n",
      "\n",
      "The code for this notebook is strongly inspired by the theano_alexnet model found at: https://github.com/uoguelph-mlrg/theano_alexnet\n"
     ]
    },
    {
     "cell_type": "code",
     "collapsed": true,
     "input": [
      "import theano.sandbox.cuda\n",
      "theano.config.floatX='float32'\n",
      "theano.sandbox.cuda.use('gpu')"
     ],
     "language": "python",
     "metadata": {},
     "outputs": []
    },
    {
     "cell_type": "code",
     "collapsed": true,
     "input": [
      "config = dict(\n",
      "    # set to True to resume training from a previous session\n",
      "    # False starts from the beginning.\n",
      "    resume_train=False,\n",
      "    # This is the epoch where the previous training left off\n",
      "    load_epoch=20,\n",
      "\n",
      "    # learning rate\n",
      "    n_epochs=60,\n",
      "    learning_rate=0.01,\n",
      "    lr_policy='step',\n",
      "    lr_adapt_threshold=0.01,\n",
      "    lr_step=[20, 40],\n",
      "\n",
      "    # data\n",
      "    batch_size=256,\n",
      "    use_data_layer=False,\n",
      "    rand_crop=True,\n",
      "    shuffle=False,\n",
      "    batch_crop_mirror=False,\n",
      "\n",
      "    # momentum\n",
      "    use_momentum=True,\n",
      "    use_nesterov_momentum=False,\n",
      "    momentum=0.9,\n",
      "\n",
      "    # weight decay\n",
      "    weight_decay=0.0005,\n",
      "\n",
      "    # directories\n",
      "    train_folder='./alexnet/train/',\n",
      "    val_folder='./alexnet/val/',\n",
      "    label_folder='./alexnet/labels/',\n",
      "    mean_file='./alexnet/img_mean.npy',\n",
      "    weights_dir='./alexnet/models/', # results will be saved there\n",
      "\n",
      "    # misc params\n",
      "    lib_conv='cudnn',\n",
      "\n",
      "    snapshot_freq=1,\n",
      "    print_train_error=True,\n",
      "    print_freq=20,\n",
      ")"
     ],
     "language": "python",
     "metadata": {},
     "outputs": []
    },
    {
     "cell_type": "code",
     "collapsed": true,
     "input": [
      "from alexnet.train import train_net\n",
      "\n",
      "train_net(config)"
     ],
     "language": "python",
     "metadata": {},
     "outputs": []
    },
    {
     "cell_type": "code",
     "collapsed": false,
     "input": [],
     "language": "python",
     "metadata": {},
     "outputs": []
    }
   ],
   "metadata": {}
  }
 ]
}