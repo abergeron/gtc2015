{
 "metadata": {
  "kernelspec": {
   "display_name": "Python 2",
   "language": "python",
   "name": "python2"
  },
  "language_info": {
   "codemirror_mode": {
    "name": "ipython",
    "version": 2
   },
   "file_extension": ".py",
   "mimetype": "text/x-python",
   "name": "python",
   "nbconvert_exporter": "python",
   "pygments_lexer": "ipython2",
   "version": "2.7.6"
  },
  "name": ""
 },
 "nbformat": 3,
 "nbformat_minor": 0,
 "worksheets": [
  {
   "cells": [
    {
     "cell_type": "markdown",
     "metadata": {},
     "source": [
      "This notebook demonstrates and allows you to run the AlexNet model.\n",
      "\n",
      "The first cell will enable the GPU. Execute it(CTRL-enter).\n",
      "\n",
      "The second cell defines the configuration for the model.\n",
      "\n",
      "The last cell defines the training code.  You can play with the configuration or the training code.  If you want to see what the model code looks like you can either type '%load alexnet/alex_net.py' and '%load alexnet/layers.py' in two empty cells or just open those files in your favorite editor.\n",
      "\n",
      "The code for this notebook is strongly inspired by the theano_alexnet model found at: https://github.com/uoguelph-mlrg/theano_alexnet\n"
     ]
    },
    {
     "cell_type": "code",
     "collapsed": true,
     "input": [
      "import theano.sandbox.cuda\n",
      "theano.config.floatX='float32'\n",
      "theano.sandbox.cuda.use('gpu')"
     ],
     "language": "python",
     "metadata": {},
     "outputs": [],
     "prompt_number": null
    },
    {
     "cell_type": "code",
     "collapsed": true,
     "input": [
      "config = dict(\n",
      "    # set to True to resume training from a previous session                    \n",
      "    # False starts from the beginning.                                          \n",
      "    resume_train=False,\n",
      "    # This is the epoch where the previous training left off                    \n",
      "    load_epoch=20,\n",
      "\n",
      "    # learning rate                                                             \n",
      "    n_epochs=60,\n",
      "    learning_rate=0.01,\n",
      "    lr_policy='step',\n",
      "    lr_adapt_threshold=0.01,\n",
      "    lr_step=[20, 40],\n",
      "\n",
      "    # data                                                                      \n",
      "    use_data_layer=False,\n",
      "    rand_crop=True,\n",
      "    shuffle=False,\n",
      "    batch_crop_mirror=False,\n",
      "\n",
      "    # momentum                                                                  \n",
      "    use_momentum=True,\n",
      "    use_nesterov_momentum=False,\n",
      "    momentum=0.9,\n",
      "\n",
      "    # weight decay                                                              \n",
      "    weight_decay=0.0005,\n",
      "\n",
      "    # directories                                                               \n",
      "    train_folder='./alexnet/train/',\n",
      "    val_folder='./alexnet/val/',\n",
      "    label_folder='./alexnet/labels/',\n",
      "    mean_file='./alexnet/img_mean.npy',\n",
      "    weights_dir='./alexnet/models/', # results will be saved there\n",
      "\n",
      "    lib_conv='cudnn',\n",
      "\n",
      "    snapshot_freq=1,\n",
      "    print_train_error=True,\n",
      "    print_freq=20,\n",
      ")"
     ],
     "language": "python",
     "metadata": {},
     "outputs": [],
     "prompt_number": null
    },
    {
     "cell_type": "code",
     "collapsed": true,
     "input": [
      "import glob\n",
      "import numpy as np\n",
      "from alexnet.train_funcs import adjust_learning_rate, get_val_error_loss, get_rand3d, train_model_wrap\n",
      "\n",
      "flag_datalayer = config['use_data_layer']\n",
      "\n",
      "train_filenames = sorted(glob.glob(config['train_folder'] + '/*.npy'))\n",
      "val_filenames = sorted(glob.glob(config['val_folder'] + '/*.npy'))\n",
      "train_labels = np.load(config['label_folder'] + 'train_labels.npy')\n",
      "val_labels = np.load(config['label_folder'] + 'val_labels.npy')\n",
      "img_mean = np.load(config['mean_file'])[:, :, :, np.newaxis].astype('float32')\n",
      "\n",
      "model = AlexNet(config)\n",
      "layers = model.layers\n",
      "batch_size = model.batch_size\n",
      "\n",
      "(train_model, validate_model, train_error, learning_rate,\n",
      "    shared_x, shared_y, rand_arr, vels) = compile_models(model, config)\n",
      "\n",
      "print '... training'\n",
      "\n",
      "n_train_batches = len(train_filenames)\n",
      "minibatch_range = range(n_train_batches)"
     ],
     "language": "python",
     "metadata": {},
     "outputs": [],
     "prompt_number": null
    }
   ],
   "metadata": {}
  }
 ]
}